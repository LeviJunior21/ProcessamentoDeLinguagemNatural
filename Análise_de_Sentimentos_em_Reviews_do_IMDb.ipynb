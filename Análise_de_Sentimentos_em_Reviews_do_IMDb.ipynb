{
  "cells": [
    {
      "cell_type": "markdown",
      "metadata": {
        "id": "AyWvsqmojVf5"
      },
      "source": [
        "**Identificação do aluno**\n",
        "\n",
        "**Email: levi.pereira.junior@ccc.ufcg.edu.br**\n",
        "\n",
        "**Matrícula: 121210472**"
      ]
    },
    {
      "cell_type": "markdown",
      "metadata": {
        "id": "ehQP7aS5iHdD"
      },
      "source": [
        "# Análise de Sentimentos em Reviews do IMDb\n",
        "\n",
        "O principal objetivo desta tarefa é aplicar três modelos de aprendizado de máquina distintos - Regressão Linear, Naive Bayes e Perceptron - para realizar a análise de sentimento em um conjunto de dados de *reviews* de usuários sobre filmes no IMDb. Ao final desta tarefa, você deverá ter uma compreensão mais profunda de como esses modelos funcionam, suas vantagens e limitações quando aplicados a dados textuais do mundo real. Este conjunto de dados inclui avaliações de texto juntamente com rótulos de sentimento correspondentes (positivo ou negativo) para a aprendizagem supervisionada."
      ]
    },
    {
      "cell_type": "markdown",
      "metadata": {
        "id": "KbKHnZiNj2Uk"
      },
      "source": [
        "## Bibliotecas"
      ]
    },
    {
      "cell_type": "code",
      "execution_count": null,
      "metadata": {
        "colab": {
          "base_uri": "https://localhost:8080/"
        },
        "id": "TOTvlFElttQV",
        "outputId": "f610494c-7984-49ed-fb19-df052d5ea69d"
      },
      "outputs": [
        {
          "name": "stdout",
          "output_type": "stream",
          "text": [
            "Requirement already satisfied: contractions in /usr/local/lib/python3.10/dist-packages (0.1.73)\n",
            "Requirement already satisfied: textsearch>=0.0.21 in /usr/local/lib/python3.10/dist-packages (from contractions) (0.0.24)\n",
            "Requirement already satisfied: anyascii in /usr/local/lib/python3.10/dist-packages (from textsearch>=0.0.21->contractions) (0.3.2)\n",
            "Requirement already satisfied: pyahocorasick in /usr/local/lib/python3.10/dist-packages (from textsearch>=0.0.21->contractions) (2.1.0)\n"
          ]
        }
      ],
      "source": [
        "!pip install contractions"
      ]
    },
    {
      "cell_type": "code",
      "execution_count": null,
      "metadata": {
        "colab": {
          "base_uri": "https://localhost:8080/"
        },
        "id": "gE7KzlmGj5eu",
        "outputId": "2abdd8a2-b8aa-40f1-d6b7-880aa8c97388"
      },
      "outputs": [
        {
          "name": "stderr",
          "output_type": "stream",
          "text": [
            "[nltk_data] Downloading package stopwords to /root/nltk_data...\n",
            "[nltk_data]   Package stopwords is already up-to-date!\n",
            "[nltk_data] Downloading package punkt to /root/nltk_data...\n",
            "[nltk_data]   Package punkt is already up-to-date!\n",
            "[nltk_data] Downloading package wordnet to /root/nltk_data...\n",
            "[nltk_data]   Package wordnet is already up-to-date!\n",
            "[nltk_data] Downloading package averaged_perceptron_tagger to\n",
            "[nltk_data]     /root/nltk_data...\n",
            "[nltk_data]   Package averaged_perceptron_tagger is already up-to-\n",
            "[nltk_data]       date!\n"
          ]
        }
      ],
      "source": [
        "# Para a leitura dos dados\n",
        "import pandas as pd\n",
        "\n",
        "# Manipulação de texto\n",
        "import nltk.corpus\n",
        "from nltk                             import pos_tag, SnowballStemmer\n",
        "from nltk.tokenize                    import word_tokenize\n",
        "\n",
        "nltk.download('stopwords')\n",
        "nltk.download('punkt')\n",
        "nltk.download('wordnet')\n",
        "nltk.download('averaged_perceptron_tagger')\n",
        "\n",
        "from nltk.corpus import wordnet\n",
        "\n",
        "# Prepraração dos dados\n",
        "from sklearn.feature_extraction.text  import TfidfVectorizer\n",
        "from sklearn.model_selection          import train_test_split\n",
        "\n",
        "# Modelos de classificação\n",
        "from sklearn.linear_model import LogisticRegression, Perceptron\n",
        "from sklearn.naive_bayes import MultinomialNB\n",
        "\n",
        "# Avaliação\n",
        "import matplotlib.pyplot as plt\n",
        "from sklearn.metrics import classification_report, confusion_matrix\n",
        "from sklearn.metrics import accuracy_score, recall_score, precision_score, f1_score\n",
        "\n",
        "import contractions"
      ]
    },
    {
      "cell_type": "markdown",
      "metadata": {
        "id": "LjPuNmPvkFrq"
      },
      "source": [
        "## Leitura dos dados"
      ]
    },
    {
      "cell_type": "code",
      "execution_count": null,
      "metadata": {
        "colab": {
          "base_uri": "https://localhost:8080/",
          "height": 206
        },
        "id": "VIHxXL4CkE5c",
        "outputId": "2705358c-3169-40c0-d68e-b939f83fd779"
      },
      "outputs": [
        {
          "data": {
            "application/vnd.google.colaboratory.intrinsic+json": {
              "summary": "{\n  \"name\": \"df[['sentiment', 'content']]\",\n  \"rows\": 5,\n  \"fields\": [\n    {\n      \"column\": \"sentiment\",\n      \"properties\": {\n        \"dtype\": \"category\",\n        \"num_unique_values\": 1,\n        \"samples\": [\n          \"neg\"\n        ],\n        \"semantic_type\": \"\",\n        \"description\": \"\"\n      }\n    },\n    {\n      \"column\": \"content\",\n      \"properties\": {\n        \"dtype\": \"string\",\n        \"num_unique_values\": 5,\n        \"samples\": [\n          \"the saddest thing about this tribute is that almost all the singers including the otherwise incredibly talented nick cave seem to have missed the whole point where cohens intensity lies by delivering his lines in an almost tuneless poise cohen transmits the full extent of his poetry his irony his allround humanity laughter and tears in onebr br to see some of these singer upstarts make convoluted suffering faces launch their pathetic squeals in the patent effort to scream im a singer is a true pain its the same feeling many of you probably had listening in to some horrendous operatic versions of simple songs such as lennons imagine nothing simply nothing gets close to the simplicity and directness of the original if there is a form of art that doesnt need embellishments its cohens art embellishments cast it in the street looking like the tasteless makeup of sex for salebr br in this cohens tribute i found myself suffering and suffering through pitiful tributes and awful reinterpretations all of them entirely lacking the original irony of the master and if truth be told several of these singers sounded as if they had been recruited at some asylum talent show its cohen doing a tribute to them by letting them sing his material really not the other way around they may have been friends or his daughters he could have become very tenderhearted and in the mood for a gift too bad it didnt stay in the familybr br fortunately but only at the very end cohen himself performed his majestic tower of song but even that flower was spoiled by the totally incongruous background of the u all of them carrying the expression that bored kids have when they visit their poor grandpa at the nursing homebr br a sad show really and sadder if you truly love cohen as i do\"\n        ],\n        \"semantic_type\": \"\",\n        \"description\": \"\"\n      }\n    }\n  ]\n}",
              "type": "dataframe"
            },
            "text/html": [
              "\n",
              "  <div id=\"df-fec3fa09-949e-4657-b338-eb720aae093f\" class=\"colab-df-container\">\n",
              "    <div>\n",
              "<style scoped>\n",
              "    .dataframe tbody tr th:only-of-type {\n",
              "        vertical-align: middle;\n",
              "    }\n",
              "\n",
              "    .dataframe tbody tr th {\n",
              "        vertical-align: top;\n",
              "    }\n",
              "\n",
              "    .dataframe thead th {\n",
              "        text-align: right;\n",
              "    }\n",
              "</style>\n",
              "<table border=\"1\" class=\"dataframe\">\n",
              "  <thead>\n",
              "    <tr style=\"text-align: right;\">\n",
              "      <th></th>\n",
              "      <th>sentiment</th>\n",
              "      <th>content</th>\n",
              "    </tr>\n",
              "  </thead>\n",
              "  <tbody>\n",
              "    <tr>\n",
              "      <th>0</th>\n",
              "      <td>neg</td>\n",
              "      <td>now i wont deny that when i purchased this off...</td>\n",
              "    </tr>\n",
              "    <tr>\n",
              "      <th>1</th>\n",
              "      <td>neg</td>\n",
              "      <td>the saddest thing about this tribute is that a...</td>\n",
              "    </tr>\n",
              "    <tr>\n",
              "      <th>2</th>\n",
              "      <td>neg</td>\n",
              "      <td>last night i decided to watch the prequel or s...</td>\n",
              "    </tr>\n",
              "    <tr>\n",
              "      <th>3</th>\n",
              "      <td>neg</td>\n",
              "      <td>i have to admit that i liked the first half of...</td>\n",
              "    </tr>\n",
              "    <tr>\n",
              "      <th>4</th>\n",
              "      <td>neg</td>\n",
              "      <td>i was not impressed about this film especially...</td>\n",
              "    </tr>\n",
              "  </tbody>\n",
              "</table>\n",
              "</div>\n",
              "    <div class=\"colab-df-buttons\">\n",
              "\n",
              "  <div class=\"colab-df-container\">\n",
              "    <button class=\"colab-df-convert\" onclick=\"convertToInteractive('df-fec3fa09-949e-4657-b338-eb720aae093f')\"\n",
              "            title=\"Convert this dataframe to an interactive table.\"\n",
              "            style=\"display:none;\">\n",
              "\n",
              "  <svg xmlns=\"http://www.w3.org/2000/svg\" height=\"24px\" viewBox=\"0 -960 960 960\">\n",
              "    <path d=\"M120-120v-720h720v720H120Zm60-500h600v-160H180v160Zm220 220h160v-160H400v160Zm0 220h160v-160H400v160ZM180-400h160v-160H180v160Zm440 0h160v-160H620v160ZM180-180h160v-160H180v160Zm440 0h160v-160H620v160Z\"/>\n",
              "  </svg>\n",
              "    </button>\n",
              "\n",
              "  <style>\n",
              "    .colab-df-container {\n",
              "      display:flex;\n",
              "      gap: 12px;\n",
              "    }\n",
              "\n",
              "    .colab-df-convert {\n",
              "      background-color: #E8F0FE;\n",
              "      border: none;\n",
              "      border-radius: 50%;\n",
              "      cursor: pointer;\n",
              "      display: none;\n",
              "      fill: #1967D2;\n",
              "      height: 32px;\n",
              "      padding: 0 0 0 0;\n",
              "      width: 32px;\n",
              "    }\n",
              "\n",
              "    .colab-df-convert:hover {\n",
              "      background-color: #E2EBFA;\n",
              "      box-shadow: 0px 1px 2px rgba(60, 64, 67, 0.3), 0px 1px 3px 1px rgba(60, 64, 67, 0.15);\n",
              "      fill: #174EA6;\n",
              "    }\n",
              "\n",
              "    .colab-df-buttons div {\n",
              "      margin-bottom: 4px;\n",
              "    }\n",
              "\n",
              "    [theme=dark] .colab-df-convert {\n",
              "      background-color: #3B4455;\n",
              "      fill: #D2E3FC;\n",
              "    }\n",
              "\n",
              "    [theme=dark] .colab-df-convert:hover {\n",
              "      background-color: #434B5C;\n",
              "      box-shadow: 0px 1px 3px 1px rgba(0, 0, 0, 0.15);\n",
              "      filter: drop-shadow(0px 1px 2px rgba(0, 0, 0, 0.3));\n",
              "      fill: #FFFFFF;\n",
              "    }\n",
              "  </style>\n",
              "\n",
              "    <script>\n",
              "      const buttonEl =\n",
              "        document.querySelector('#df-fec3fa09-949e-4657-b338-eb720aae093f button.colab-df-convert');\n",
              "      buttonEl.style.display =\n",
              "        google.colab.kernel.accessAllowed ? 'block' : 'none';\n",
              "\n",
              "      async function convertToInteractive(key) {\n",
              "        const element = document.querySelector('#df-fec3fa09-949e-4657-b338-eb720aae093f');\n",
              "        const dataTable =\n",
              "          await google.colab.kernel.invokeFunction('convertToInteractive',\n",
              "                                                    [key], {});\n",
              "        if (!dataTable) return;\n",
              "\n",
              "        const docLinkHtml = 'Like what you see? Visit the ' +\n",
              "          '<a target=\"_blank\" href=https://colab.research.google.com/notebooks/data_table.ipynb>data table notebook</a>'\n",
              "          + ' to learn more about interactive tables.';\n",
              "        element.innerHTML = '';\n",
              "        dataTable['output_type'] = 'display_data';\n",
              "        await google.colab.output.renderOutput(dataTable, element);\n",
              "        const docLink = document.createElement('div');\n",
              "        docLink.innerHTML = docLinkHtml;\n",
              "        element.appendChild(docLink);\n",
              "      }\n",
              "    </script>\n",
              "  </div>\n",
              "\n",
              "\n",
              "<div id=\"df-eb1618dd-ef06-4f9b-8e9c-610e76ce1fc5\">\n",
              "  <button class=\"colab-df-quickchart\" onclick=\"quickchart('df-eb1618dd-ef06-4f9b-8e9c-610e76ce1fc5')\"\n",
              "            title=\"Suggest charts\"\n",
              "            style=\"display:none;\">\n",
              "\n",
              "<svg xmlns=\"http://www.w3.org/2000/svg\" height=\"24px\"viewBox=\"0 0 24 24\"\n",
              "     width=\"24px\">\n",
              "    <g>\n",
              "        <path d=\"M19 3H5c-1.1 0-2 .9-2 2v14c0 1.1.9 2 2 2h14c1.1 0 2-.9 2-2V5c0-1.1-.9-2-2-2zM9 17H7v-7h2v7zm4 0h-2V7h2v10zm4 0h-2v-4h2v4z\"/>\n",
              "    </g>\n",
              "</svg>\n",
              "  </button>\n",
              "\n",
              "<style>\n",
              "  .colab-df-quickchart {\n",
              "      --bg-color: #E8F0FE;\n",
              "      --fill-color: #1967D2;\n",
              "      --hover-bg-color: #E2EBFA;\n",
              "      --hover-fill-color: #174EA6;\n",
              "      --disabled-fill-color: #AAA;\n",
              "      --disabled-bg-color: #DDD;\n",
              "  }\n",
              "\n",
              "  [theme=dark] .colab-df-quickchart {\n",
              "      --bg-color: #3B4455;\n",
              "      --fill-color: #D2E3FC;\n",
              "      --hover-bg-color: #434B5C;\n",
              "      --hover-fill-color: #FFFFFF;\n",
              "      --disabled-bg-color: #3B4455;\n",
              "      --disabled-fill-color: #666;\n",
              "  }\n",
              "\n",
              "  .colab-df-quickchart {\n",
              "    background-color: var(--bg-color);\n",
              "    border: none;\n",
              "    border-radius: 50%;\n",
              "    cursor: pointer;\n",
              "    display: none;\n",
              "    fill: var(--fill-color);\n",
              "    height: 32px;\n",
              "    padding: 0;\n",
              "    width: 32px;\n",
              "  }\n",
              "\n",
              "  .colab-df-quickchart:hover {\n",
              "    background-color: var(--hover-bg-color);\n",
              "    box-shadow: 0 1px 2px rgba(60, 64, 67, 0.3), 0 1px 3px 1px rgba(60, 64, 67, 0.15);\n",
              "    fill: var(--button-hover-fill-color);\n",
              "  }\n",
              "\n",
              "  .colab-df-quickchart-complete:disabled,\n",
              "  .colab-df-quickchart-complete:disabled:hover {\n",
              "    background-color: var(--disabled-bg-color);\n",
              "    fill: var(--disabled-fill-color);\n",
              "    box-shadow: none;\n",
              "  }\n",
              "\n",
              "  .colab-df-spinner {\n",
              "    border: 2px solid var(--fill-color);\n",
              "    border-color: transparent;\n",
              "    border-bottom-color: var(--fill-color);\n",
              "    animation:\n",
              "      spin 1s steps(1) infinite;\n",
              "  }\n",
              "\n",
              "  @keyframes spin {\n",
              "    0% {\n",
              "      border-color: transparent;\n",
              "      border-bottom-color: var(--fill-color);\n",
              "      border-left-color: var(--fill-color);\n",
              "    }\n",
              "    20% {\n",
              "      border-color: transparent;\n",
              "      border-left-color: var(--fill-color);\n",
              "      border-top-color: var(--fill-color);\n",
              "    }\n",
              "    30% {\n",
              "      border-color: transparent;\n",
              "      border-left-color: var(--fill-color);\n",
              "      border-top-color: var(--fill-color);\n",
              "      border-right-color: var(--fill-color);\n",
              "    }\n",
              "    40% {\n",
              "      border-color: transparent;\n",
              "      border-right-color: var(--fill-color);\n",
              "      border-top-color: var(--fill-color);\n",
              "    }\n",
              "    60% {\n",
              "      border-color: transparent;\n",
              "      border-right-color: var(--fill-color);\n",
              "    }\n",
              "    80% {\n",
              "      border-color: transparent;\n",
              "      border-right-color: var(--fill-color);\n",
              "      border-bottom-color: var(--fill-color);\n",
              "    }\n",
              "    90% {\n",
              "      border-color: transparent;\n",
              "      border-bottom-color: var(--fill-color);\n",
              "    }\n",
              "  }\n",
              "</style>\n",
              "\n",
              "  <script>\n",
              "    async function quickchart(key) {\n",
              "      const quickchartButtonEl =\n",
              "        document.querySelector('#' + key + ' button');\n",
              "      quickchartButtonEl.disabled = true;  // To prevent multiple clicks.\n",
              "      quickchartButtonEl.classList.add('colab-df-spinner');\n",
              "      try {\n",
              "        const charts = await google.colab.kernel.invokeFunction(\n",
              "            'suggestCharts', [key], {});\n",
              "      } catch (error) {\n",
              "        console.error('Error during call to suggestCharts:', error);\n",
              "      }\n",
              "      quickchartButtonEl.classList.remove('colab-df-spinner');\n",
              "      quickchartButtonEl.classList.add('colab-df-quickchart-complete');\n",
              "    }\n",
              "    (() => {\n",
              "      let quickchartButtonEl =\n",
              "        document.querySelector('#df-eb1618dd-ef06-4f9b-8e9c-610e76ce1fc5 button');\n",
              "      quickchartButtonEl.style.display =\n",
              "        google.colab.kernel.accessAllowed ? 'block' : 'none';\n",
              "    })();\n",
              "  </script>\n",
              "</div>\n",
              "\n",
              "    </div>\n",
              "  </div>\n"
            ],
            "text/plain": [
              "  sentiment                                            content\n",
              "0       neg  now i wont deny that when i purchased this off...\n",
              "1       neg  the saddest thing about this tribute is that a...\n",
              "2       neg  last night i decided to watch the prequel or s...\n",
              "3       neg  i have to admit that i liked the first half of...\n",
              "4       neg  i was not impressed about this film especially..."
            ]
          },
          "execution_count": 11,
          "metadata": {},
          "output_type": "execute_result"
        }
      ],
      "source": [
        "df = pd.read_csv('https://gist.githubusercontent.com/issilva5/44c9406a85b0fed0d62668752cc31b09/raw/49e01d2e8011bdd83d0bc835a518e398ae319303/movie_reviews.csv')\n",
        "df[['sentiment', 'content']].head()"
      ]
    },
    {
      "cell_type": "markdown",
      "metadata": {
        "id": "DH-X2HjGkxu9"
      },
      "source": [
        "Os dados estão distribuídos em duas classes:"
      ]
    },
    {
      "cell_type": "code",
      "execution_count": null,
      "metadata": {
        "colab": {
          "base_uri": "https://localhost:8080/",
          "height": 143
        },
        "id": "-3dc3YC2kp2u",
        "outputId": "6ed6dd5a-849a-43f1-90aa-d3a391f2199b"
      },
      "outputs": [
        {
          "data": {
            "application/vnd.google.colaboratory.intrinsic+json": {
              "summary": "{\n  \"name\": \"df\",\n  \"rows\": 2,\n  \"fields\": [\n    {\n      \"column\": \"sentiment\",\n      \"properties\": {\n        \"dtype\": \"string\",\n        \"num_unique_values\": 2,\n        \"samples\": [\n          \"pos\",\n          \"neg\"\n        ],\n        \"semantic_type\": \"\",\n        \"description\": \"\"\n      }\n    },\n    {\n      \"column\": \"content\",\n      \"properties\": {\n        \"dtype\": \"number\",\n        \"std\": 0,\n        \"min\": 12500,\n        \"max\": 12500,\n        \"num_unique_values\": 1,\n        \"samples\": [\n          12500\n        ],\n        \"semantic_type\": \"\",\n        \"description\": \"\"\n      }\n    }\n  ]\n}",
              "type": "dataframe"
            },
            "text/html": [
              "\n",
              "  <div id=\"df-1b5a4768-5a34-4381-906d-cbaf2581c2ac\" class=\"colab-df-container\">\n",
              "    <div>\n",
              "<style scoped>\n",
              "    .dataframe tbody tr th:only-of-type {\n",
              "        vertical-align: middle;\n",
              "    }\n",
              "\n",
              "    .dataframe tbody tr th {\n",
              "        vertical-align: top;\n",
              "    }\n",
              "\n",
              "    .dataframe thead th {\n",
              "        text-align: right;\n",
              "    }\n",
              "</style>\n",
              "<table border=\"1\" class=\"dataframe\">\n",
              "  <thead>\n",
              "    <tr style=\"text-align: right;\">\n",
              "      <th></th>\n",
              "      <th>content</th>\n",
              "    </tr>\n",
              "    <tr>\n",
              "      <th>sentiment</th>\n",
              "      <th></th>\n",
              "    </tr>\n",
              "  </thead>\n",
              "  <tbody>\n",
              "    <tr>\n",
              "      <th>neg</th>\n",
              "      <td>12500</td>\n",
              "    </tr>\n",
              "    <tr>\n",
              "      <th>pos</th>\n",
              "      <td>12500</td>\n",
              "    </tr>\n",
              "  </tbody>\n",
              "</table>\n",
              "</div>\n",
              "    <div class=\"colab-df-buttons\">\n",
              "\n",
              "  <div class=\"colab-df-container\">\n",
              "    <button class=\"colab-df-convert\" onclick=\"convertToInteractive('df-1b5a4768-5a34-4381-906d-cbaf2581c2ac')\"\n",
              "            title=\"Convert this dataframe to an interactive table.\"\n",
              "            style=\"display:none;\">\n",
              "\n",
              "  <svg xmlns=\"http://www.w3.org/2000/svg\" height=\"24px\" viewBox=\"0 -960 960 960\">\n",
              "    <path d=\"M120-120v-720h720v720H120Zm60-500h600v-160H180v160Zm220 220h160v-160H400v160Zm0 220h160v-160H400v160ZM180-400h160v-160H180v160Zm440 0h160v-160H620v160ZM180-180h160v-160H180v160Zm440 0h160v-160H620v160Z\"/>\n",
              "  </svg>\n",
              "    </button>\n",
              "\n",
              "  <style>\n",
              "    .colab-df-container {\n",
              "      display:flex;\n",
              "      gap: 12px;\n",
              "    }\n",
              "\n",
              "    .colab-df-convert {\n",
              "      background-color: #E8F0FE;\n",
              "      border: none;\n",
              "      border-radius: 50%;\n",
              "      cursor: pointer;\n",
              "      display: none;\n",
              "      fill: #1967D2;\n",
              "      height: 32px;\n",
              "      padding: 0 0 0 0;\n",
              "      width: 32px;\n",
              "    }\n",
              "\n",
              "    .colab-df-convert:hover {\n",
              "      background-color: #E2EBFA;\n",
              "      box-shadow: 0px 1px 2px rgba(60, 64, 67, 0.3), 0px 1px 3px 1px rgba(60, 64, 67, 0.15);\n",
              "      fill: #174EA6;\n",
              "    }\n",
              "\n",
              "    .colab-df-buttons div {\n",
              "      margin-bottom: 4px;\n",
              "    }\n",
              "\n",
              "    [theme=dark] .colab-df-convert {\n",
              "      background-color: #3B4455;\n",
              "      fill: #D2E3FC;\n",
              "    }\n",
              "\n",
              "    [theme=dark] .colab-df-convert:hover {\n",
              "      background-color: #434B5C;\n",
              "      box-shadow: 0px 1px 3px 1px rgba(0, 0, 0, 0.15);\n",
              "      filter: drop-shadow(0px 1px 2px rgba(0, 0, 0, 0.3));\n",
              "      fill: #FFFFFF;\n",
              "    }\n",
              "  </style>\n",
              "\n",
              "    <script>\n",
              "      const buttonEl =\n",
              "        document.querySelector('#df-1b5a4768-5a34-4381-906d-cbaf2581c2ac button.colab-df-convert');\n",
              "      buttonEl.style.display =\n",
              "        google.colab.kernel.accessAllowed ? 'block' : 'none';\n",
              "\n",
              "      async function convertToInteractive(key) {\n",
              "        const element = document.querySelector('#df-1b5a4768-5a34-4381-906d-cbaf2581c2ac');\n",
              "        const dataTable =\n",
              "          await google.colab.kernel.invokeFunction('convertToInteractive',\n",
              "                                                    [key], {});\n",
              "        if (!dataTable) return;\n",
              "\n",
              "        const docLinkHtml = 'Like what you see? Visit the ' +\n",
              "          '<a target=\"_blank\" href=https://colab.research.google.com/notebooks/data_table.ipynb>data table notebook</a>'\n",
              "          + ' to learn more about interactive tables.';\n",
              "        element.innerHTML = '';\n",
              "        dataTable['output_type'] = 'display_data';\n",
              "        await google.colab.output.renderOutput(dataTable, element);\n",
              "        const docLink = document.createElement('div');\n",
              "        docLink.innerHTML = docLinkHtml;\n",
              "        element.appendChild(docLink);\n",
              "      }\n",
              "    </script>\n",
              "  </div>\n",
              "\n",
              "\n",
              "<div id=\"df-6a7b7d33-a561-4baa-9e3d-da4756086e35\">\n",
              "  <button class=\"colab-df-quickchart\" onclick=\"quickchart('df-6a7b7d33-a561-4baa-9e3d-da4756086e35')\"\n",
              "            title=\"Suggest charts\"\n",
              "            style=\"display:none;\">\n",
              "\n",
              "<svg xmlns=\"http://www.w3.org/2000/svg\" height=\"24px\"viewBox=\"0 0 24 24\"\n",
              "     width=\"24px\">\n",
              "    <g>\n",
              "        <path d=\"M19 3H5c-1.1 0-2 .9-2 2v14c0 1.1.9 2 2 2h14c1.1 0 2-.9 2-2V5c0-1.1-.9-2-2-2zM9 17H7v-7h2v7zm4 0h-2V7h2v10zm4 0h-2v-4h2v4z\"/>\n",
              "    </g>\n",
              "</svg>\n",
              "  </button>\n",
              "\n",
              "<style>\n",
              "  .colab-df-quickchart {\n",
              "      --bg-color: #E8F0FE;\n",
              "      --fill-color: #1967D2;\n",
              "      --hover-bg-color: #E2EBFA;\n",
              "      --hover-fill-color: #174EA6;\n",
              "      --disabled-fill-color: #AAA;\n",
              "      --disabled-bg-color: #DDD;\n",
              "  }\n",
              "\n",
              "  [theme=dark] .colab-df-quickchart {\n",
              "      --bg-color: #3B4455;\n",
              "      --fill-color: #D2E3FC;\n",
              "      --hover-bg-color: #434B5C;\n",
              "      --hover-fill-color: #FFFFFF;\n",
              "      --disabled-bg-color: #3B4455;\n",
              "      --disabled-fill-color: #666;\n",
              "  }\n",
              "\n",
              "  .colab-df-quickchart {\n",
              "    background-color: var(--bg-color);\n",
              "    border: none;\n",
              "    border-radius: 50%;\n",
              "    cursor: pointer;\n",
              "    display: none;\n",
              "    fill: var(--fill-color);\n",
              "    height: 32px;\n",
              "    padding: 0;\n",
              "    width: 32px;\n",
              "  }\n",
              "\n",
              "  .colab-df-quickchart:hover {\n",
              "    background-color: var(--hover-bg-color);\n",
              "    box-shadow: 0 1px 2px rgba(60, 64, 67, 0.3), 0 1px 3px 1px rgba(60, 64, 67, 0.15);\n",
              "    fill: var(--button-hover-fill-color);\n",
              "  }\n",
              "\n",
              "  .colab-df-quickchart-complete:disabled,\n",
              "  .colab-df-quickchart-complete:disabled:hover {\n",
              "    background-color: var(--disabled-bg-color);\n",
              "    fill: var(--disabled-fill-color);\n",
              "    box-shadow: none;\n",
              "  }\n",
              "\n",
              "  .colab-df-spinner {\n",
              "    border: 2px solid var(--fill-color);\n",
              "    border-color: transparent;\n",
              "    border-bottom-color: var(--fill-color);\n",
              "    animation:\n",
              "      spin 1s steps(1) infinite;\n",
              "  }\n",
              "\n",
              "  @keyframes spin {\n",
              "    0% {\n",
              "      border-color: transparent;\n",
              "      border-bottom-color: var(--fill-color);\n",
              "      border-left-color: var(--fill-color);\n",
              "    }\n",
              "    20% {\n",
              "      border-color: transparent;\n",
              "      border-left-color: var(--fill-color);\n",
              "      border-top-color: var(--fill-color);\n",
              "    }\n",
              "    30% {\n",
              "      border-color: transparent;\n",
              "      border-left-color: var(--fill-color);\n",
              "      border-top-color: var(--fill-color);\n",
              "      border-right-color: var(--fill-color);\n",
              "    }\n",
              "    40% {\n",
              "      border-color: transparent;\n",
              "      border-right-color: var(--fill-color);\n",
              "      border-top-color: var(--fill-color);\n",
              "    }\n",
              "    60% {\n",
              "      border-color: transparent;\n",
              "      border-right-color: var(--fill-color);\n",
              "    }\n",
              "    80% {\n",
              "      border-color: transparent;\n",
              "      border-right-color: var(--fill-color);\n",
              "      border-bottom-color: var(--fill-color);\n",
              "    }\n",
              "    90% {\n",
              "      border-color: transparent;\n",
              "      border-bottom-color: var(--fill-color);\n",
              "    }\n",
              "  }\n",
              "</style>\n",
              "\n",
              "  <script>\n",
              "    async function quickchart(key) {\n",
              "      const quickchartButtonEl =\n",
              "        document.querySelector('#' + key + ' button');\n",
              "      quickchartButtonEl.disabled = true;  // To prevent multiple clicks.\n",
              "      quickchartButtonEl.classList.add('colab-df-spinner');\n",
              "      try {\n",
              "        const charts = await google.colab.kernel.invokeFunction(\n",
              "            'suggestCharts', [key], {});\n",
              "      } catch (error) {\n",
              "        console.error('Error during call to suggestCharts:', error);\n",
              "      }\n",
              "      quickchartButtonEl.classList.remove('colab-df-spinner');\n",
              "      quickchartButtonEl.classList.add('colab-df-quickchart-complete');\n",
              "    }\n",
              "    (() => {\n",
              "      let quickchartButtonEl =\n",
              "        document.querySelector('#df-6a7b7d33-a561-4baa-9e3d-da4756086e35 button');\n",
              "      quickchartButtonEl.style.display =\n",
              "        google.colab.kernel.accessAllowed ? 'block' : 'none';\n",
              "    })();\n",
              "  </script>\n",
              "</div>\n",
              "\n",
              "    </div>\n",
              "  </div>\n"
            ],
            "text/plain": [
              "           content\n",
              "sentiment         \n",
              "neg          12500\n",
              "pos          12500"
            ]
          },
          "execution_count": 12,
          "metadata": {},
          "output_type": "execute_result"
        }
      ],
      "source": [
        "df.groupby('sentiment').count()"
      ]
    },
    {
      "cell_type": "markdown",
      "metadata": {
        "id": "UKlAipOJyvKD"
      },
      "source": [
        "A seguir criaremos uma lista com o texto."
      ]
    },
    {
      "cell_type": "code",
      "execution_count": null,
      "metadata": {
        "id": "IKdtjVJXyj93"
      },
      "outputs": [],
      "source": [
        "corpus = df['content'].tolist()"
      ]
    },
    {
      "cell_type": "markdown",
      "metadata": {
        "id": "K4Qyfdx0k64m"
      },
      "source": [
        "## Limpeza dos dados\n",
        "\n",
        "Antes de aplicar modelos de aprendizado de máquina, você precisará limpar e pré-processar os dados textuais. É esperado que você aplique pelo menos as seguintes tarefas de limpeza dos dados:\n",
        "\n",
        "- Tokenização\n",
        "- Remoção de palavras muito pequenas (<= 2) ou muito grandes (>= 15).\n",
        "- Remoção de stopwords.\n",
        "- Stemming."
      ]
    },
    {
      "cell_type": "code",
      "execution_count": null,
      "metadata": {
        "id": "A3d4NDWGl0gp"
      },
      "outputs": [],
      "source": [
        "stop_words = nltk.corpus.stopwords.words(\"english\")\n",
        "stemmer = SnowballStemmer(\"english\")\n",
        "lemmatizer = nltk.stem.WordNetLemmatizer()\n",
        "\n",
        "def remove_palavras_pequenas_grandes(tokens):\n",
        "  stopwords_removidas = [token.lower() for token in tokens if len(token) > 2 and len(token) <= 15]\n",
        "  return stopwords_removidas\n",
        "\n",
        "def remove_stopwords(tokens):\n",
        "  nao_stop_words = [token for token in tokens if token.lower() not in stop_words]\n",
        "  return nao_stop_words\n",
        "\n",
        "def stemming(tokens):\n",
        "  palavras_stemmizadas = [stemmer.stem(token) for token in tokens]\n",
        "  return palavras_stemmizadas\n",
        "\n",
        "def corrigir_documento(document):\n",
        "  return contractions.fix(document)\n",
        "\n",
        "def get_wordnet_pos(treebank_tag):\n",
        "  if treebank_tag.startswith('J'): # Adjetivo\n",
        "    return wordnet.ADJ\n",
        "  elif treebank_tag.startswith('V'): # Verbo\n",
        "    return wordnet.VERB\n",
        "  elif treebank_tag.startswith('N'): # Substantivo\n",
        "    return wordnet.NOUN\n",
        "  elif treebank_tag.startswith('R'):# Advérbio\n",
        "    return wordnet.ADV\n",
        "  else:\n",
        "    return None\n",
        "\n",
        "def lemmatize(tokens):\n",
        "  lemmatized_tokens = []\n",
        "  pos_tagged = pos_tag(tokens)\n",
        "  for token, tag in pos_tagged:\n",
        "    wordnet_pos = get_wordnet_pos(tag) or wordnet.NOUN\n",
        "    lemmatized_tokens.append(lemmatizer.lemmatize(token, pos=wordnet_pos))\n",
        "\n",
        "  return lemmatized_tokens"
      ]
    },
    {
      "cell_type": "code",
      "execution_count": null,
      "metadata": {
        "colab": {
          "background_save": true
        },
        "id": "uNlpPU3EyiTn"
      },
      "outputs": [],
      "source": [
        "def process_corpus(corpus):\n",
        "  corpus_processed = []\n",
        "  for document in corpus:\n",
        "    document = corrigir_documento(document)\n",
        "    tokens = word_tokenize(document)\n",
        "    tokens = remove_stopwords(tokens)\n",
        "    tokens = remove_palavras_pequenas_grandes(tokens)\n",
        "    tokens = lemmatize(tokens)\n",
        "    tokens = stemming(tokens)\n",
        "    corpus_processed.append(\" \".join(tokens))\n",
        "  return corpus_processed\n",
        "\n",
        "corpus_processed = process_corpus(corpus)"
      ]
    },
    {
      "cell_type": "markdown",
      "metadata": {
        "id": "r3FWA1Fz3kIB"
      },
      "source": [
        "## Preparando os dados para os modelos"
      ]
    },
    {
      "cell_type": "markdown",
      "metadata": {
        "id": "LkykJyP33oL4"
      },
      "source": [
        "Primeiramente, realize a vetorização TF-IDF dos dados."
      ]
    },
    {
      "cell_type": "code",
      "execution_count": null,
      "metadata": {
        "colab": {
          "background_save": true
        },
        "id": "3pmHTGer3yPm"
      },
      "outputs": [],
      "source": [
        "# Você deve instanciar um vetorizador TF-IDF e aplicá-lo ao corpus processado.\n",
        "\n",
        "x_treino, x_teste, y_treino, y_teste = train_test_split(corpus_processed, df['sentiment'], test_size=0.2, shuffle=True)\n",
        "\n",
        "vetorizador = TfidfVectorizer(max_df=0.95, min_df=1, ngram_range=(1,2), max_features=None)"
      ]
    },
    {
      "cell_type": "markdown",
      "metadata": {
        "id": "XaExf3qq4YqO"
      },
      "source": [
        "Agora, realize a partição treino e teste dos dados."
      ]
    },
    {
      "cell_type": "code",
      "execution_count": null,
      "metadata": {
        "id": "alzmjVAy4dIr"
      },
      "outputs": [],
      "source": [
        "# Você deve realizar a partição treino e teste dos dados aqui.\n",
        "\n",
        "x_treino_vetorizado = vetorizador.fit_transform(x_treino)\n",
        "x_teste_vetorizado = vetorizador.transform(x_teste)\n",
        "\n",
        "print(corpus_processed[0])\n",
        "x_teste"
      ]
    },
    {
      "cell_type": "markdown",
      "metadata": {
        "id": "O2ZCCuyr5X_X"
      },
      "source": [
        "## Treinando modelos"
      ]
    },
    {
      "cell_type": "markdown",
      "metadata": {
        "id": "8Dmp5T7O6eFO"
      },
      "source": [
        "Finalmente, instancie e treine os três modelos (Regressão Logística, Naive Bayes e Perceptron)."
      ]
    },
    {
      "cell_type": "code",
      "execution_count": null,
      "metadata": {
        "id": "1c-_xIMz6hTc"
      },
      "outputs": [],
      "source": [
        "# Você deve instanciar e treinar os três modelos de Regressão Logística\n",
        "\n",
        "modelo_NaiveBayes = MultinomialNB(alpha=0.1)\n",
        "modelo_NaiveBayes.fit(x_treino_vetorizado, y_treino)\n",
        "predicao_NaiveBayes = modelo_NaiveBayes.predict(x_teste_vetorizado)\n",
        "\n",
        "modelo_RegressaoLogistica = LogisticRegression()\n",
        "modelo_RegressaoLogistica.fit(x_treino_vetorizado, y_treino)\n",
        "predicao_RegressaoLogistica = modelo_RegressaoLogistica.predict(x_teste_vetorizado)\n",
        "\n",
        "modelo_Perceptron = Perceptron()\n",
        "modelo_Perceptron.fit(x_treino_vetorizado, y_treino)\n",
        "predicao_Perceptron = modelo_Perceptron.predict(x_teste_vetorizado)"
      ]
    },
    {
      "cell_type": "markdown",
      "metadata": {
        "id": "7dQkxo_h9rEP"
      },
      "source": [
        "## Avaliação dos modelos"
      ]
    },
    {
      "cell_type": "markdown",
      "metadata": {
        "id": "SA8_uQbO9x4H"
      },
      "source": [
        "Você deve realizar as predições para cada um dos três modelos."
      ]
    },
    {
      "cell_type": "code",
      "execution_count": null,
      "metadata": {
        "id": "d680M3r59wpx"
      },
      "outputs": [],
      "source": [
        "# Realize as predições para cada um dos modelos\n",
        "\n",
        "def classificar_sentimento(vetorizador, classificador, entrada):\n",
        "  resultado = \"\"\n",
        "\n",
        "  if (entrada != \"\"):\n",
        "    corpus = [entrada]\n",
        "    corpus_processados = process_corpus(corpus)\n",
        "    predicao_y = vetorizador.transform(corpus_processados)\n",
        "    predicao_classificador = classificador.predict(predicao_y)\n",
        "    if predicao_classificador[0] == \"pos\":\n",
        "      resultado = \"Positivo\"\n",
        "    elif (predicao_classificador[0] == \"neg\"):\n",
        "      resultado = \"Negativo\"\n",
        "\n",
        "  return resultado\n",
        "\n",
        "def classificar_exemplo(exemplo, esperado):\n",
        "  resultado_NaiveBayes = classificar_sentimento(vetorizador, modelo_NaiveBayes, exemplo)\n",
        "  resultadoRegressaoLogistica = classificar_sentimento(vetorizador, modelo_RegressaoLogistica, exemplo)\n",
        "  resultado_Perceptron = classificar_sentimento(vetorizador, modelo_Perceptron, exemplo)\n",
        "\n",
        "  print(f'Classificando o exemplo: \"{exemplo1}\"\\nResultado esperado: {esperado}')\n",
        "\n",
        "  print(f\"\\nResultado através da classificação Naive Bayes: {resultado_NaiveBayes}\")\n",
        "  print(f\"Resultado através da classificação Regressão Logística: {resultadoRegressaoLogistica}\")\n",
        "  print(f\"Resultado através da classificação Perceptron: {resultado_Perceptron}\\n\")\n",
        "\n",
        "exemplo1 = \"I absolutely loved the new movie I watched last night. The acting was superb, and the storyline was captivating from start to finish.\"\n",
        "exemolo2 = \"The service at the restaurant was terrible. The staff was rude, and the food was cold and tasteless. I won't be coming back.\"\n",
        "\n",
        "classificar_exemplo(exemplo1, \"Positivo\")\n",
        "classificar_exemplo(exemolo2, \"Negativo\")"
      ]
    },
    {
      "cell_type": "markdown",
      "metadata": {
        "id": "1p66jwQB_Zbk"
      },
      "source": [
        "Plote a matriz de confusão para cada modelo."
      ]
    },
    {
      "cell_type": "code",
      "execution_count": null,
      "metadata": {
        "id": "sgk2WrgE_dFg"
      },
      "outputs": [],
      "source": [
        "# Faça o plot da matriz de confusão de contagem para cada um dos modelos.\n",
        "import seaborn as sns\n",
        "\n",
        "def plot_matriz_confusao(y_true, y_pred, modelo, titulo):\n",
        "  matriz_confusao = confusion_matrix(y_true=y_true, y_pred=y_pred, labels=modelo.classes_)\n",
        "  sns.heatmap(matriz_confusao, annot=True, fmt='d', cmap='Blues', xticklabels=modelo.classes_, yticklabels=modelo.classes_)\n",
        "  plt.title(f'Matriz de Confusão - {titulo}')\n",
        "  plt.show()\n",
        "\n",
        "plot_matriz_confusao(y_teste, predicao_NaiveBayes, modelo_NaiveBayes, \"Naive Bayes\")\n",
        "plot_matriz_confusao(y_teste, predicao_RegressaoLogistica, modelo_RegressaoLogistica, \"Regressão Logistica\")\n",
        "plot_matriz_confusao(y_teste, predicao_Perceptron, modelo_Perceptron, \"Perceptron\")"
      ]
    },
    {
      "cell_type": "markdown",
      "metadata": {
        "id": "5rssiJLR-h--"
      },
      "source": [
        "Calcule métricas (acurácia, recall, precision, f1-score) para cada uma das predições."
      ]
    },
    {
      "cell_type": "code",
      "execution_count": null,
      "metadata": {
        "id": "FKJ2FMt8-L9U"
      },
      "outputs": [],
      "source": [
        "# Para cada um dos modelos produza as métricas pedidas.\n",
        "\n",
        "print(\"\\nPara o modelo Naive Bayes:\\n\")\n",
        "print(classification_report(y_teste, predicao_NaiveBayes))\n",
        "print(\"\\nPara o modelo Regressão Logistica:\\n\")\n",
        "print(classification_report(y_teste, predicao_RegressaoLogistica))\n",
        "print(\"\\nPara o modelo Perceptron:\\n\")\n",
        "print(classification_report(y_teste, predicao_Perceptron))"
      ]
    },
    {
      "cell_type": "markdown",
      "metadata": {
        "id": "LkC5heouJkyB"
      },
      "source": [
        "#### Perguntas"
      ]
    },
    {
      "cell_type": "markdown",
      "metadata": {
        "id": "aV-KlGgn_Mli"
      },
      "source": [
        "***Discuta sobre os resultados do modelo considerando as matrizes de confusão e as métricas calculadas.***"
      ]
    },
    {
      "cell_type": "markdown",
      "metadata": {
        "id": "sMy105yiJfTl"
      },
      "source": [
        "Observa-se que o modelo Regressão Logistica foi o melhor entre os três modelos.\n",
        "Tanto é que a F1 (relação harmônica entre o precision e recall) foi melhor para a Regressão Logistica.\n",
        "\n",
        "Para o modelo Naive Bayes:\n",
        "- Precision: 0.87\n",
        "- Recall: 0.87\n",
        "- F1: 0.87\n",
        "\n",
        "Para o modelo Regressão Logistica:\n",
        "- Precision: 0.90\n",
        "- Recall: 0.87\n",
        "- F1: 0.89\n",
        "\n",
        "Para o modelo Perceptron:\n",
        "- Precision: 0.86\n",
        "- Recall: 0.88\n",
        "- F1: 0.87\n"
      ]
    },
    {
      "cell_type": "markdown",
      "metadata": {
        "id": "LngzKUBy_vZy"
      },
      "source": [
        "## Interpretando os modelos"
      ]
    },
    {
      "cell_type": "markdown",
      "metadata": {
        "id": "38nrMM3s_yFI"
      },
      "source": [
        "Uma subárea importante da aprendizagem de máquina é a interpretação dos modelos.\n",
        "\n",
        "Nesta parte do laboratório, você deve implementar funções para facilitar a interpretação dos modelos treinados e responder algumas perguntas sobre eles."
      ]
    },
    {
      "cell_type": "markdown",
      "metadata": {
        "id": "QDpvsC0rAyo3"
      },
      "source": [
        "### Implementando funções auxiliares"
      ]
    },
    {
      "cell_type": "markdown",
      "metadata": {
        "id": "s_ehN7jHBCRL"
      },
      "source": [
        "A seguir é pedido que você implemente duas funções.\n",
        "\n",
        "A primeira delas **recupera_palavras_positivas** deve retornar as top-20 palavras que mais contribuem para a classificação do texto como positivo. A segunda **recupera_palavras_negativas** deve fazer o equivalente para a classificação negativa.\n",
        "\n",
        "Os modelos de Regressão Logística e Perceptron tem um parâmetro chamado ***coef_*** este parâmetro retorna o peso de cada feature (palavra) tem no modelo. Palavras com peso positivo influenciam para a classificação positiva, e palavras com peso negativo fazem o inverso. O valor desse parâmetro tem a dimensão (1, n_features).\n",
        "\n",
        "Já o modelo Naive Bayes tem um parâmetro chamado ***feature_log_prob_***. Este parâmetro retorna o log das probabilidades de cada palavra aparecer no texto dada uma classe. O valor desse parâmetro tem a dimensão (2, n_features), de modo que a posição 0 corresponde as probabilidades para a classe negativa e a posição para a classe positiva. Quanto maior for a probabilidade de uma palavra, maior podemos dizer que é sua influência na classificação.\n",
        "\n",
        "Para acessar o nomes das features em ordem utilize o método **get_feature_names_out** do vetorizador construído.\n",
        "\n",
        "Ambas as funções devem retornar uma lista de tuplas (string, float), ou seja, (palavra, peso)."
      ]
    },
    {
      "cell_type": "code",
      "execution_count": null,
      "metadata": {
        "id": "NoEdrBABA3Mx"
      },
      "outputs": [],
      "source": [
        "import numpy as np\n",
        "\n",
        "def recupera_palavras_positivas(modelo):\n",
        "  try:\n",
        "    coeficientes = modelo.coef_[0]\n",
        "  except AttributeError:\n",
        "    coeficientes = modelo.feature_log_prob_[1]\n",
        "\n",
        "  top_positivas = np.argsort(coeficientes)[-20:]\n",
        "  palavras_positivas = [vetorizador.get_feature_names_out()[i] for i in top_positivas]\n",
        "\n",
        "  return palavras_positivas\n",
        "\n",
        "def recupera_palavras_negativas(modelo):\n",
        "  try:\n",
        "    coeficientes = modelo.coef_[0]\n",
        "  except AttributeError:\n",
        "    coeficientes = modelo.feature_log_prob_[1]\n",
        "\n",
        "  top_negativas = np.argsort(coeficientes)[:20]\n",
        "  palavras_negativas = [vetorizador.get_feature_names_out()[i] for i in top_negativas]\n",
        "\n",
        "  return palavras_negativas"
      ]
    },
    {
      "cell_type": "markdown",
      "metadata": {
        "id": "pPowzyW5IhxU"
      },
      "source": [
        "### Visualizando e interpretando"
      ]
    },
    {
      "cell_type": "markdown",
      "metadata": {
        "id": "kx2ysoeWG2Os"
      },
      "source": [
        "Use a função abaixo para visualizar uma nuvem de palavras do retorno das funções."
      ]
    },
    {
      "cell_type": "code",
      "execution_count": null,
      "metadata": {
        "id": "mh8jeA9PEvQP"
      },
      "outputs": [],
      "source": [
        "import matplotlib.pyplot as plt\n",
        "from wordcloud import WordCloud\n",
        "\n",
        "def plot_wordcloud(df, color=\"white\"):\n",
        "  words = ' '.join(df)\n",
        "  cleaned_word = ' '.join([word for word in words.split()])\n",
        "  wordcloud = WordCloud(background_color=color, width=2500, height = 2500).generate(cleaned_word)\n",
        "\n",
        "  plt.figure(1, figsize = (10,7))\n",
        "  plt.imshow(wordcloud)\n",
        "  plt.axis(\"off\")\n",
        "  plt.show()"
      ]
    },
    {
      "cell_type": "markdown",
      "metadata": {
        "id": "UfeIOuLWIuqT"
      },
      "source": [
        "#### Palavras positivas"
      ]
    },
    {
      "cell_type": "code",
      "execution_count": null,
      "metadata": {
        "id": "PET-3-1hIA3C"
      },
      "outputs": [],
      "source": [
        "# Plote aqui a nuvem de palavras para a Regressão Logística\n",
        "\n",
        "plot_wordcloud(recupera_palavras_positivas(modelo_RegressaoLogistica))"
      ]
    },
    {
      "cell_type": "code",
      "execution_count": null,
      "metadata": {
        "id": "-NwE8KQ_IFIg"
      },
      "outputs": [],
      "source": [
        "# Plote aqui a nuvem de palavras para o Naive Bayes\n",
        "\n",
        "plot_wordcloud(recupera_palavras_positivas(modelo_NaiveBayes))"
      ]
    },
    {
      "cell_type": "code",
      "execution_count": null,
      "metadata": {
        "id": "VO2RJNviIKGN"
      },
      "outputs": [],
      "source": [
        "# Plote aqui a nuvem de palavras para o Perceptron\n",
        "\n",
        "plot_wordcloud(recupera_palavras_positivas(modelo_Perceptron))"
      ]
    },
    {
      "cell_type": "markdown",
      "metadata": {
        "id": "hLAyhmb6IyVW"
      },
      "source": [
        "#### Palavras negativas"
      ]
    },
    {
      "cell_type": "code",
      "execution_count": null,
      "metadata": {
        "id": "4k-H_fmoI3DQ"
      },
      "outputs": [],
      "source": [
        "# Plote aqui a nuvem de palavras para a Regressão Logística\n",
        "\n",
        "plot_wordcloud(recupera_palavras_negativas(modelo_RegressaoLogistica))"
      ]
    },
    {
      "cell_type": "code",
      "execution_count": null,
      "metadata": {
        "id": "suI-KPZFI3DS"
      },
      "outputs": [],
      "source": [
        "# Plote aqui a nuvem de palavras para o Naive Bayes\n",
        "\n",
        "plot_wordcloud(recupera_palavras_negativas(modelo_NaiveBayes))"
      ]
    },
    {
      "cell_type": "code",
      "execution_count": null,
      "metadata": {
        "id": "qKzprfNuI3DS"
      },
      "outputs": [],
      "source": [
        "# Plote aqui a nuvem de palavras para o Perceptron\n",
        "\n",
        "plot_wordcloud(recupera_palavras_negativas(modelo_Perceptron))"
      ]
    },
    {
      "cell_type": "markdown",
      "metadata": {
        "id": "FrzXYtiMHFYB"
      },
      "source": [
        "#### Perguntas"
      ]
    },
    {
      "cell_type": "markdown",
      "metadata": {
        "id": "kwI3igQAHHUf"
      },
      "source": [
        "**1. Analisando as nuvens de palavras positivas de cada modelo, é possível identificar que as palavras estão associadas à um sentimento positivo? Dê exemplos.**"
      ]
    },
    {
      "cell_type": "markdown",
      "metadata": {
        "id": "qikrH9SSHc8W"
      },
      "source": [
        "Sim, é possível identificar.\n",
        "O modelo de Regressão Logistica, Naive Bayes e Perceptron encontraram várias entre palavras as top 20 que estão mais associadas a sentimentos positivos.\n",
        "\n",
        "Exemplos de palavras com palavras associadas a un sentimento positivo para\n",
        "- Regressão Logistica: best, superb, amaze e brilliant.\n",
        "- Naive Bayes: love, good e greet.\n",
        "- Perceptron: amazing, incredible e excellent.\n",
        "\n",
        "Entretanto, o modelo de Regressão Logistica e Naive Bayes encontraram não só palavras com sentimentos positivo, mas tambmém algumas palavras que por si só não podem ser classificadas como positivas.\n",
        "\n",
        "Como por exemplo:\n",
        "- Regressão Logistica: one, today e still.\n",
        "- Naive Bayes: character, movie e film.\n"
      ]
    },
    {
      "cell_type": "markdown",
      "metadata": {
        "id": "unzddM3NHf2t"
      },
      "source": [
        "**2. Analisando as nuvens de palavras negativas de cada modelo, é possível identificar que as palavras estão associadas à um sentimento negativo? Dê exemplos.**"
      ]
    },
    {
      "cell_type": "markdown",
      "metadata": {
        "id": "OlvPk8gxHlCi"
      },
      "source": [
        "Sim, é possivel identificar palavras associadas a um sentimento negativo em todos os modelos. Temos para:\n",
        "- Regressão Logistica: terrible, poor, bare e horrible.\n",
        "- Naive Bayes: bad e horror.\n",
        "- Perceptron: awful, poor e bad.\n",
        "\n",
        "Entretanto, o modelo de Naive Bayes encontrarou não só palavras com sentimentos negativos, mas tambmém algumas palavras que por si só não podem ser classificadas como negativas.\n",
        "\n",
        "Como por exemplo:\n",
        "Naive Bayes: box, plot, even e one."
      ]
    },
    {
      "cell_type": "markdown",
      "metadata": {
        "id": "Z0GlMHRpHm3v"
      },
      "source": [
        "**3. Considerando as métricas calculadas e a análise acima, qual modelo você acredita ser o melhor na tarefa? Por quê?**"
      ]
    },
    {
      "cell_type": "markdown",
      "metadata": {
        "id": "PVY-EjtSHyqc"
      },
      "source": [
        "Acredito que a Regressão Logistica seja a melhor porque essas palavras se assemelham mais as palavras positivas e negativas do que o Perceptron e Naive Bayes.\n",
        "Nota-se que ele da maior peso as palavras que realmente são de sentimento positivo e neghativo do que os outros dois modelos de aprendizagem supervisionada.\n",
        "\n",
        "Inclusive, a regressãõ logistica teve maiores métricas entre todos, inclusive na harmonia entre precisão e recall, a chamada F1."
      ]
    },
    {
      "cell_type": "markdown",
      "metadata": {
        "id": "PC3kPW2RLM9-"
      },
      "source": [
        "## Testando mais modelos\n",
        "\n",
        "Até então no exerício utilizamos três modelos de classificação, entretanto existem muitos outros disponíveis no sklearn. Escolha um dos três modelos para treinar e avaliar nos dados. Em seguida compare os resultados com os modelos anteriores.\n",
        "\n",
        "- [Nearest Neighbors Classification](https://scikit-learn.org/stable/modules/neighbors.html#nearest-neighbors-classification)\n",
        "- [Decision Tree](https://scikit-learn.org/stable/modules/tree.html#classification)\n",
        "- [Support Vector Machine](https://scikit-learn.org/stable/modules/svm.html#classification)"
      ]
    },
    {
      "cell_type": "code",
      "execution_count": null,
      "metadata": {
        "id": "w9FeI6BMN03Z"
      },
      "outputs": [],
      "source": [
        "# Importe o modelo que será utilizado\n",
        "\n",
        "from sklearn.neighbors import KNeighborsClassifier\n",
        "from sklearn.tree import DecisionTreeClassifier\n",
        "from sklearn.svm import SVC"
      ]
    },
    {
      "cell_type": "code",
      "execution_count": null,
      "metadata": {
        "id": "WEQUmeKPM_-X"
      },
      "outputs": [],
      "source": [
        "# Treine aqui o modelo escolhido\n",
        "\n",
        "modelo_KNN = KNeighborsClassifier(n_neighbors=5)\n",
        "modelo_KNN.fit(x_treino_vetorizado, y_treino)\n",
        "predicao_KNN = modelo_KNN.predict(x_teste_vetorizado)\n",
        "\n",
        "modelo_DecisionTree = DecisionTreeClassifier()\n",
        "modelo_DecisionTree.fit(x_treino_vetorizado, y_treino)\n",
        "predicao_DecisionTree = modelo_DecisionTree.predict(x_teste_vetorizado)\n",
        "\n",
        "modelo_SVM = SVC()\n",
        "modelo_SVM.fit(x_treino_vetorizado, y_treino)\n",
        "predicao_SVM = modelo_SVM.predict(x_teste_vetorizado)"
      ]
    },
    {
      "cell_type": "code",
      "execution_count": null,
      "metadata": {
        "id": "_vmEfSDtNCAD"
      },
      "outputs": [],
      "source": [
        "# Faça a previsão dos resultados\n",
        "print(\"Para o modelo KNN:\\n\")\n",
        "print(classification_report(y_teste, predicao_KNN))\n",
        "print(\"\\n\\nPara o modelo Decision Tree:\\n\")\n",
        "print(classification_report(y_teste, predicao_DecisionTree))\n",
        "print(\"\\n\\nPara o modelo SVM:\\n\")\n",
        "print(classification_report(y_teste, predicao_SVM))"
      ]
    },
    {
      "cell_type": "code",
      "execution_count": null,
      "metadata": {
        "id": "Qg_dZ6hrNEcD"
      },
      "outputs": [],
      "source": [
        "# Avalie o modelo usando a matriz de confusão e as métricas anteriores\n",
        "\n",
        "plot_matriz_confusao(y_teste, predicao_KNN, modelo_KNN, \"KNN\")\n",
        "plot_matriz_confusao(y_teste, predicao_DecisionTree, modelo_DecisionTree, \"Decision Tree\")\n",
        "plot_matriz_confusao(y_teste, predicao_SVM, modelo_SVM, \"SVM\")"
      ]
    },
    {
      "cell_type": "markdown",
      "metadata": {
        "id": "69Jm6ye4NIRg"
      },
      "source": [
        "### Perguntas"
      ]
    },
    {
      "cell_type": "markdown",
      "metadata": {
        "id": "M9UC5kZCNWPX"
      },
      "source": [
        "**1. Explique brevemente como o modelo que você escolheu funciona (a documentação do sklearn pode servir de fonte para esta resposta).**"
      ]
    },
    {
      "cell_type": "markdown",
      "metadata": {
        "id": "X_jt6I_DNu23"
      },
      "source": [
        "*K-Nearest Neighbors (KNN)*:\n",
        "O K-Nearest Neighbors (KNN) é um classificador baseado em instâncias que faz previsões com base na similaridade entre amostras. O modelo armazena todas as instâncias de treinamento e, para fazer uma previsão, encontra os k vizinhos mais próximos à nova amostra e decide a classe com base na maioria das classes desses vizinhos. O parâmetro n_neighbors define quantos vizinhos considerar. A escolha do valor de k pode impactar a performance do modelo, e valores pequenos podem levar a overfitting, enquanto valores grandes podem suavizar demais as decisões.\n",
        "\n",
        "*Decision Tree*:\n",
        "A Decision Tree é um classificador baseado em uma estrutura de árvore onde cada nó interno representa uma decisão baseada em um atributo, e cada folha representa uma classe. O modelo divide os dados em subsets menores e mais homogêneos através de regras de decisão, otimizando um critério de divisão (como a impureza de Gini ou a entropia) para determinar a melhor divisão. As árvores de decisão são intuitivas e fáceis de interpretar, mas podem ser propensas ao overfitting se não forem podadas adequadamente.\n",
        "\n",
        "*Support Vector Machine (SVM)*:\n",
        "A Support Vector Machine (SVM) é um classificador que busca encontrar um hiperplano que melhor separa os dados em diferentes classes. O objetivo é maximizar a margem entre as classes, que é a distância entre o hiperplano e os pontos de dados mais próximos (vetores de suporte). SVM é eficaz em espaços de alta dimensão e em casos onde o número de dimensões é maior que o número de amostras. O parâmetro C controla o trade-off entre maximizar a margem e minimizar o erro de classificação. O parâmetro kernel define a função usada para transformar os dados em um espaço de características superior onde a separação linear é possível.\n"
      ]
    },
    {
      "cell_type": "markdown",
      "metadata": {
        "id": "nE09JyU-NKtE"
      },
      "source": [
        "**2. Como foi o desempenho do modelo escolhido em relação aos demais modelos?**"
      ]
    },
    {
      "cell_type": "markdown",
      "metadata": {
        "id": "HXr3GDLdNS_s"
      },
      "source": [
        "O SVM saiu melhor do que os demais quando falamos em precision, recall e a F1."
      ]
    }
  ],
  "metadata": {
    "accelerator": "GPU",
    "colab": {
      "gpuType": "T4",
      "provenance": []
    },
    "kernelspec": {
      "display_name": "Python 3",
      "name": "python3"
    },
    "language_info": {
      "name": "python"
    }
  },
  "nbformat": 4,
  "nbformat_minor": 0
}